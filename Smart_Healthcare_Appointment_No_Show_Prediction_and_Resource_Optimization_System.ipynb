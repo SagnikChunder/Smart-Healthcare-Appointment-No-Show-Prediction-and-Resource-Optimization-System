{
  "nbformat": 4,
  "nbformat_minor": 0,
  "metadata": {
    "colab": {
      "provenance": [],
      "authorship_tag": "ABX9TyOO9fRa/zzxyKKypi8FqPQ6",
      "include_colab_link": true
    },
    "kernelspec": {
      "name": "python3",
      "display_name": "Python 3"
    },
    "language_info": {
      "name": "python"
    }
  },
  "cells": [
    {
      "cell_type": "markdown",
      "metadata": {
        "id": "view-in-github",
        "colab_type": "text"
      },
      "source": [
        "<a href=\"https://colab.research.google.com/github/SagnikChunder/Smart-Healthcare-Appointment-No-Show-Prediction-and-Resource-Optimization-System/blob/main/Smart_Healthcare_Appointment_No_Show_Prediction_and_Resource_Optimization_System.ipynb\" target=\"_parent\"><img src=\"https://colab.research.google.com/assets/colab-badge.svg\" alt=\"Open In Colab\"/></a>"
      ]
    },
    {
      "cell_type": "code",
      "source": [
        "from google.colab import files\n",
        "uploaded = files.upload()"
      ],
      "metadata": {
        "colab": {
          "base_uri": "https://localhost:8080/",
          "height": 73
        },
        "id": "gn6is23wUCwo",
        "outputId": "0d2597d2-bd42-4719-a0a7-5e965420c391"
      },
      "execution_count": 9,
      "outputs": [
        {
          "output_type": "display_data",
          "data": {
            "text/plain": [
              "<IPython.core.display.HTML object>"
            ],
            "text/html": [
              "\n",
              "     <input type=\"file\" id=\"files-346cf048-4d27-4a93-871e-e96a28da1e13\" name=\"files[]\" multiple disabled\n",
              "        style=\"border:none\" />\n",
              "     <output id=\"result-346cf048-4d27-4a93-871e-e96a28da1e13\">\n",
              "      Upload widget is only available when the cell has been executed in the\n",
              "      current browser session. Please rerun this cell to enable.\n",
              "      </output>\n",
              "      <script>// Copyright 2017 Google LLC\n",
              "//\n",
              "// Licensed under the Apache License, Version 2.0 (the \"License\");\n",
              "// you may not use this file except in compliance with the License.\n",
              "// You may obtain a copy of the License at\n",
              "//\n",
              "//      http://www.apache.org/licenses/LICENSE-2.0\n",
              "//\n",
              "// Unless required by applicable law or agreed to in writing, software\n",
              "// distributed under the License is distributed on an \"AS IS\" BASIS,\n",
              "// WITHOUT WARRANTIES OR CONDITIONS OF ANY KIND, either express or implied.\n",
              "// See the License for the specific language governing permissions and\n",
              "// limitations under the License.\n",
              "\n",
              "/**\n",
              " * @fileoverview Helpers for google.colab Python module.\n",
              " */\n",
              "(function(scope) {\n",
              "function span(text, styleAttributes = {}) {\n",
              "  const element = document.createElement('span');\n",
              "  element.textContent = text;\n",
              "  for (const key of Object.keys(styleAttributes)) {\n",
              "    element.style[key] = styleAttributes[key];\n",
              "  }\n",
              "  return element;\n",
              "}\n",
              "\n",
              "// Max number of bytes which will be uploaded at a time.\n",
              "const MAX_PAYLOAD_SIZE = 100 * 1024;\n",
              "\n",
              "function _uploadFiles(inputId, outputId) {\n",
              "  const steps = uploadFilesStep(inputId, outputId);\n",
              "  const outputElement = document.getElementById(outputId);\n",
              "  // Cache steps on the outputElement to make it available for the next call\n",
              "  // to uploadFilesContinue from Python.\n",
              "  outputElement.steps = steps;\n",
              "\n",
              "  return _uploadFilesContinue(outputId);\n",
              "}\n",
              "\n",
              "// This is roughly an async generator (not supported in the browser yet),\n",
              "// where there are multiple asynchronous steps and the Python side is going\n",
              "// to poll for completion of each step.\n",
              "// This uses a Promise to block the python side on completion of each step,\n",
              "// then passes the result of the previous step as the input to the next step.\n",
              "function _uploadFilesContinue(outputId) {\n",
              "  const outputElement = document.getElementById(outputId);\n",
              "  const steps = outputElement.steps;\n",
              "\n",
              "  const next = steps.next(outputElement.lastPromiseValue);\n",
              "  return Promise.resolve(next.value.promise).then((value) => {\n",
              "    // Cache the last promise value to make it available to the next\n",
              "    // step of the generator.\n",
              "    outputElement.lastPromiseValue = value;\n",
              "    return next.value.response;\n",
              "  });\n",
              "}\n",
              "\n",
              "/**\n",
              " * Generator function which is called between each async step of the upload\n",
              " * process.\n",
              " * @param {string} inputId Element ID of the input file picker element.\n",
              " * @param {string} outputId Element ID of the output display.\n",
              " * @return {!Iterable<!Object>} Iterable of next steps.\n",
              " */\n",
              "function* uploadFilesStep(inputId, outputId) {\n",
              "  const inputElement = document.getElementById(inputId);\n",
              "  inputElement.disabled = false;\n",
              "\n",
              "  const outputElement = document.getElementById(outputId);\n",
              "  outputElement.innerHTML = '';\n",
              "\n",
              "  const pickedPromise = new Promise((resolve) => {\n",
              "    inputElement.addEventListener('change', (e) => {\n",
              "      resolve(e.target.files);\n",
              "    });\n",
              "  });\n",
              "\n",
              "  const cancel = document.createElement('button');\n",
              "  inputElement.parentElement.appendChild(cancel);\n",
              "  cancel.textContent = 'Cancel upload';\n",
              "  const cancelPromise = new Promise((resolve) => {\n",
              "    cancel.onclick = () => {\n",
              "      resolve(null);\n",
              "    };\n",
              "  });\n",
              "\n",
              "  // Wait for the user to pick the files.\n",
              "  const files = yield {\n",
              "    promise: Promise.race([pickedPromise, cancelPromise]),\n",
              "    response: {\n",
              "      action: 'starting',\n",
              "    }\n",
              "  };\n",
              "\n",
              "  cancel.remove();\n",
              "\n",
              "  // Disable the input element since further picks are not allowed.\n",
              "  inputElement.disabled = true;\n",
              "\n",
              "  if (!files) {\n",
              "    return {\n",
              "      response: {\n",
              "        action: 'complete',\n",
              "      }\n",
              "    };\n",
              "  }\n",
              "\n",
              "  for (const file of files) {\n",
              "    const li = document.createElement('li');\n",
              "    li.append(span(file.name, {fontWeight: 'bold'}));\n",
              "    li.append(span(\n",
              "        `(${file.type || 'n/a'}) - ${file.size} bytes, ` +\n",
              "        `last modified: ${\n",
              "            file.lastModifiedDate ? file.lastModifiedDate.toLocaleDateString() :\n",
              "                                    'n/a'} - `));\n",
              "    const percent = span('0% done');\n",
              "    li.appendChild(percent);\n",
              "\n",
              "    outputElement.appendChild(li);\n",
              "\n",
              "    const fileDataPromise = new Promise((resolve) => {\n",
              "      const reader = new FileReader();\n",
              "      reader.onload = (e) => {\n",
              "        resolve(e.target.result);\n",
              "      };\n",
              "      reader.readAsArrayBuffer(file);\n",
              "    });\n",
              "    // Wait for the data to be ready.\n",
              "    let fileData = yield {\n",
              "      promise: fileDataPromise,\n",
              "      response: {\n",
              "        action: 'continue',\n",
              "      }\n",
              "    };\n",
              "\n",
              "    // Use a chunked sending to avoid message size limits. See b/62115660.\n",
              "    let position = 0;\n",
              "    do {\n",
              "      const length = Math.min(fileData.byteLength - position, MAX_PAYLOAD_SIZE);\n",
              "      const chunk = new Uint8Array(fileData, position, length);\n",
              "      position += length;\n",
              "\n",
              "      const base64 = btoa(String.fromCharCode.apply(null, chunk));\n",
              "      yield {\n",
              "        response: {\n",
              "          action: 'append',\n",
              "          file: file.name,\n",
              "          data: base64,\n",
              "        },\n",
              "      };\n",
              "\n",
              "      let percentDone = fileData.byteLength === 0 ?\n",
              "          100 :\n",
              "          Math.round((position / fileData.byteLength) * 100);\n",
              "      percent.textContent = `${percentDone}% done`;\n",
              "\n",
              "    } while (position < fileData.byteLength);\n",
              "  }\n",
              "\n",
              "  // All done.\n",
              "  yield {\n",
              "    response: {\n",
              "      action: 'complete',\n",
              "    }\n",
              "  };\n",
              "}\n",
              "\n",
              "scope.google = scope.google || {};\n",
              "scope.google.colab = scope.google.colab || {};\n",
              "scope.google.colab._files = {\n",
              "  _uploadFiles,\n",
              "  _uploadFilesContinue,\n",
              "};\n",
              "})(self);\n",
              "</script> "
            ]
          },
          "metadata": {}
        },
        {
          "output_type": "stream",
          "name": "stdout",
          "text": [
            "Saving KaggleV2-May-2016.csv to KaggleV2-May-2016.csv\n"
          ]
        }
      ]
    },
    {
      "cell_type": "code",
      "source": [
        "import pandas as pd\n",
        "\n",
        "# Load dataset\n",
        "df = pd.read_csv(\"KaggleV2-May-2016.csv\")\n",
        "\n",
        "# View shape and sample rows\n",
        "print(\"Shape:\", df.shape)\n",
        "print(df.head())\n",
        "\n",
        "# Basic info\n",
        "print(df.info())\n",
        "\n",
        "# Check missing values\n",
        "print(df.isnull().sum())"
      ],
      "metadata": {
        "colab": {
          "base_uri": "https://localhost:8080/"
        },
        "id": "Zh2akfwtUbuX",
        "outputId": "caec0f77-69e5-41a7-cb00-dd90f16f4e48"
      },
      "execution_count": 10,
      "outputs": [
        {
          "output_type": "stream",
          "name": "stdout",
          "text": [
            "Shape: (110527, 14)\n",
            "      PatientId  AppointmentID Gender          ScheduledDay  \\\n",
            "0  2.987250e+13        5642903      F  2016-04-29T18:38:08Z   \n",
            "1  5.589978e+14        5642503      M  2016-04-29T16:08:27Z   \n",
            "2  4.262962e+12        5642549      F  2016-04-29T16:19:04Z   \n",
            "3  8.679512e+11        5642828      F  2016-04-29T17:29:31Z   \n",
            "4  8.841186e+12        5642494      F  2016-04-29T16:07:23Z   \n",
            "\n",
            "         AppointmentDay  Age      Neighbourhood  Scholarship  Hipertension  \\\n",
            "0  2016-04-29T00:00:00Z   62    JARDIM DA PENHA            0             1   \n",
            "1  2016-04-29T00:00:00Z   56    JARDIM DA PENHA            0             0   \n",
            "2  2016-04-29T00:00:00Z   62      MATA DA PRAIA            0             0   \n",
            "3  2016-04-29T00:00:00Z    8  PONTAL DE CAMBURI            0             0   \n",
            "4  2016-04-29T00:00:00Z   56    JARDIM DA PENHA            0             1   \n",
            "\n",
            "   Diabetes  Alcoholism  Handcap  SMS_received No-show  \n",
            "0         0           0        0             0      No  \n",
            "1         0           0        0             0      No  \n",
            "2         0           0        0             0      No  \n",
            "3         0           0        0             0      No  \n",
            "4         1           0        0             0      No  \n",
            "<class 'pandas.core.frame.DataFrame'>\n",
            "RangeIndex: 110527 entries, 0 to 110526\n",
            "Data columns (total 14 columns):\n",
            " #   Column          Non-Null Count   Dtype  \n",
            "---  ------          --------------   -----  \n",
            " 0   PatientId       110527 non-null  float64\n",
            " 1   AppointmentID   110527 non-null  int64  \n",
            " 2   Gender          110527 non-null  object \n",
            " 3   ScheduledDay    110527 non-null  object \n",
            " 4   AppointmentDay  110527 non-null  object \n",
            " 5   Age             110527 non-null  int64  \n",
            " 6   Neighbourhood   110527 non-null  object \n",
            " 7   Scholarship     110527 non-null  int64  \n",
            " 8   Hipertension    110527 non-null  int64  \n",
            " 9   Diabetes        110527 non-null  int64  \n",
            " 10  Alcoholism      110527 non-null  int64  \n",
            " 11  Handcap         110527 non-null  int64  \n",
            " 12  SMS_received    110527 non-null  int64  \n",
            " 13  No-show         110527 non-null  object \n",
            "dtypes: float64(1), int64(8), object(5)\n",
            "memory usage: 11.8+ MB\n",
            "None\n",
            "PatientId         0\n",
            "AppointmentID     0\n",
            "Gender            0\n",
            "ScheduledDay      0\n",
            "AppointmentDay    0\n",
            "Age               0\n",
            "Neighbourhood     0\n",
            "Scholarship       0\n",
            "Hipertension      0\n",
            "Diabetes          0\n",
            "Alcoholism        0\n",
            "Handcap           0\n",
            "SMS_received      0\n",
            "No-show           0\n",
            "dtype: int64\n"
          ]
        }
      ]
    },
    {
      "cell_type": "markdown",
      "source": [
        "Cleaning and Preparing Data"
      ],
      "metadata": {
        "id": "5alrv-dAVLVs"
      }
    },
    {
      "cell_type": "code",
      "source": [
        "# Convert to datetime\n",
        "df['ScheduledDay'] = pd.to_datetime(df['ScheduledDay'])\n",
        "df['AppointmentDay'] = pd.to_datetime(df['AppointmentDay'])\n",
        "\n",
        "# Create time gap feature\n",
        "df['WaitingDays'] = (df['AppointmentDay'] - df['ScheduledDay']).dt.days\n",
        "\n",
        "# Convert No-show to binary\n",
        "df['No-show'] = df['No-show'].map({'Yes': 1, 'No': 0})\n",
        "\n",
        "# Check class balance\n",
        "print(df['No-show'].value_counts(normalize=True))"
      ],
      "metadata": {
        "colab": {
          "base_uri": "https://localhost:8080/"
        },
        "id": "xN9ohbZdU1Du",
        "outputId": "7167909c-bd8e-477c-8028-40c6b740ef20"
      },
      "execution_count": 11,
      "outputs": [
        {
          "output_type": "stream",
          "name": "stdout",
          "text": [
            "No-show\n",
            "0    0.798067\n",
            "1    0.201933\n",
            "Name: proportion, dtype: float64\n"
          ]
        }
      ]
    },
    {
      "cell_type": "markdown",
      "source": [
        "Visualizing Patterns"
      ],
      "metadata": {
        "id": "vn8ZYYxGVJtC"
      }
    },
    {
      "cell_type": "code",
      "source": [
        "import seaborn as sns\n",
        "import matplotlib.pyplot as plt\n",
        "\n",
        "# Visualize age vs. no-show\n",
        "sns.histplot(data=df, x='Age', hue='No-show', bins=30, kde=True)\n",
        "plt.title('Age Distribution by Show/No-show')\n",
        "plt.show()\n",
        "\n",
        "# Waiting days impact\n",
        "sns.boxplot(x='No-show', y='WaitingDays', data=df)\n",
        "plt.title('Waiting Days vs No-show')\n",
        "plt.show()"
      ],
      "metadata": {
        "colab": {
          "base_uri": "https://localhost:8080/",
          "height": 927
        },
        "id": "OmWu2LEHU_wy",
        "outputId": "d488f5d8-dfdd-4fa9-e798-1242cf860132"
      },
      "execution_count": 12,
      "outputs": [
        {
          "output_type": "display_data",
          "data": {
            "text/plain": [
              "<Figure size 640x480 with 1 Axes>"
            ],
            "image/png": "[encoded data removed]"
          },
          "metadata": {}
        },
        {
          "output_type": "display_data",
          "data": {
            "text/plain": [
              "<Figure size 640x480 with 1 Axes>"
            ],
            "image/png": "[encoded data removed]"
          },
          "metadata": {}
        }
      ]
    },
    {
      "cell_type": "markdown",
      "source": [
        "Feature Engineering & Selection"
      ],
      "metadata": {
        "id": "3MVuEGn6VsYq"
      }
    },
    {
      "cell_type": "code",
      "source": [
        "# Dropping ID columns that don't help in prediction\n",
        "df = df.drop(columns=['PatientId', 'AppointmentID'])\n",
        "\n",
        "# Optional: Remove records with negative ages or waiting days\n",
        "df = df[df['Age'] >= 0]\n",
        "df = df[df['WaitingDays'] >= 0]"
      ],
      "metadata": {
        "id": "wEh0THRzVuBp"
      },
      "execution_count": 13,
      "outputs": []
    },
    {
      "cell_type": "code",
      "source": [
        "# Day of the week (0=Monday, ..., 6=Sunday)\n",
        "df['AppointmentWeekDay'] = df['AppointmentDay'].dt.dayofweek\n",
        "\n",
        "# Scheduled hour (may help if patient scheduled late at night)\n",
        "df['ScheduledHour'] = df['ScheduledDay'].dt.hour"
      ],
      "metadata": {
        "id": "a7e4jkSCVzhf"
      },
      "execution_count": 14,
      "outputs": []
    },
    {
      "cell_type": "code",
      "source": [
        "# Feature columns (you can tune this list based on model performance)\n",
        "features = ['Gender', 'Age', 'Scholarship', 'Hipertension', 'Diabetes',\n",
        "            'Alcoholism', 'Handcap', 'SMS_received', 'WaitingDays',\n",
        "            'AppointmentWeekDay', 'ScheduledHour']\n",
        "\n",
        "# Encode categorical variables\n",
        "df['Gender'] = df['Gender'].map({'F': 0, 'M': 1})\n",
        "\n",
        "# Final X and y\n",
        "X = df[features]\n",
        "y = df['No-show']"
      ],
      "metadata": {
        "id": "wv0Xtx2NV5jG"
      },
      "execution_count": 15,
      "outputs": []
    },
    {
      "cell_type": "markdown",
      "source": [
        "Train ML Model"
      ],
      "metadata": {
        "id": "_pdPq1zzWEWb"
      }
    },
    {
      "cell_type": "code",
      "source": [
        "from sklearn.model_selection import train_test_split\n",
        "from sklearn.linear_model import LogisticRegression\n",
        "from sklearn.metrics import classification_report, confusion_matrix\n",
        "\n",
        "# Train-test split\n",
        "X_train, X_test, y_train, y_test = train_test_split(X, y, test_size=0.2, random_state=42, stratify=y)\n",
        "\n",
        "# Logistic Regression\n",
        "model = LogisticRegression(max_iter=1000)\n",
        "model.fit(X_train, y_train)\n",
        "\n",
        "# Predict and evaluate\n",
        "y_pred = model.predict(X_test)\n",
        "\n",
        "print(confusion_matrix(y_test, y_pred))\n",
        "print(classification_report(y_test, y_pred))"
      ],
      "metadata": {
        "colab": {
          "base_uri": "https://localhost:8080/"
        },
        "id": "dlydQrnDWGFj",
        "outputId": "fde69b09-cd35-49ab-d77d-8f3aa4d3a65a"
      },
      "execution_count": 16,
      "outputs": [
        {
          "output_type": "stream",
          "name": "stdout",
          "text": [
            "[[10275    13]\n",
            " [ 4093    11]]\n",
            "              precision    recall  f1-score   support\n",
            "\n",
            "           0       0.72      1.00      0.83     10288\n",
            "           1       0.46      0.00      0.01      4104\n",
            "\n",
            "    accuracy                           0.71     14392\n",
            "   macro avg       0.59      0.50      0.42     14392\n",
            "weighted avg       0.64      0.71      0.60     14392\n",
            "\n"
          ]
        }
      ]
    },
    {
      "cell_type": "code",
      "source": [
        "from sklearn.ensemble import RandomForestClassifier\n",
        "from xgboost import XGBClassifier\n",
        "from sklearn.metrics import classification_report, roc_auc_score\n",
        "\n",
        "# Random Forest\n",
        "rf_model = RandomForestClassifier(n_estimators=100, random_state=42)\n",
        "rf_model.fit(X_train, y_train)\n",
        "rf_pred = rf_model.predict(X_test)\n",
        "\n",
        "print(\"Random Forest:\")\n",
        "print(classification_report(y_test, rf_pred))\n",
        "print(\"ROC AUC Score:\", roc_auc_score(y_test, rf_model.predict_proba(X_test)[:, 1]))\n",
        "\n",
        "# XGBoost\n",
        "xgb_model = XGBClassifier(use_label_encoder=False, eval_metric='logloss', random_state=42)\n",
        "xgb_model.fit(X_train, y_train)\n",
        "xgb_pred = xgb_model.predict(X_test)\n",
        "\n",
        "print(\"XGBoost:\")\n",
        "print(classification_report(y_test, xgb_pred))\n",
        "print(\"ROC AUC Score:\", roc_auc_score(y_test, xgb_model.predict_proba(X_test)[:, 1]))"
      ],
      "metadata": {
        "colab": {
          "base_uri": "https://localhost:8080/"
        },
        "id": "5yGHdBFhWWG1",
        "outputId": "f73775bc-df4e-4379-d251-9b07acf4a14a"
      },
      "execution_count": 17,
      "outputs": [
        {
          "output_type": "stream",
          "name": "stdout",
          "text": [
            "Random Forest:\n",
            "              precision    recall  f1-score   support\n",
            "\n",
            "           0       0.73      0.86      0.79     10288\n",
            "           1       0.37      0.20      0.26      4104\n",
            "\n",
            "    accuracy                           0.67     14392\n",
            "   macro avg       0.55      0.53      0.53     14392\n",
            "weighted avg       0.63      0.67      0.64     14392\n",
            "\n",
            "ROC AUC Score: 0.5763116186575173\n"
          ]
        },
        {
          "output_type": "stream",
          "name": "stderr",
          "text": [
            "/usr/local/lib/python3.11/dist-packages/xgboost/core.py:158: UserWarning: [03:49:07] WARNING: /workspace/src/learner.cc:740: \n",
            "Parameters: { \"use_label_encoder\" } are not used.\n",
            "\n",
            "  warnings.warn(smsg, UserWarning)\n"
          ]
        },
        {
          "output_type": "stream",
          "name": "stdout",
          "text": [
            "XGBoost:\n",
            "              precision    recall  f1-score   support\n",
            "\n",
            "           0       0.72      0.97      0.83     10288\n",
            "           1       0.45      0.06      0.10      4104\n",
            "\n",
            "    accuracy                           0.71     14392\n",
            "   macro avg       0.58      0.51      0.47     14392\n",
            "weighted avg       0.64      0.71      0.62     14392\n",
            "\n",
            "ROC AUC Score: 0.6009579329728763\n"
          ]
        }
      ]
    },
    {
      "cell_type": "markdown",
      "source": [
        "Handling Class Imbalance"
      ],
      "metadata": {
        "id": "jDLgj1KzWxc_"
      }
    },
    {
      "cell_type": "markdown",
      "source": [
        "Usage of SMOTE (Synthetic Minority Oversampling)"
      ],
      "metadata": {
        "id": "wPw8eX86XPIv"
      }
    },
    {
      "cell_type": "code",
      "source": [
        "from imblearn.over_sampling import SMOTE\n",
        "\n",
        "smote = SMOTE(random_state=42)\n",
        "X_train_sm, y_train_sm = smote.fit_resample(X_train, y_train)\n",
        "\n",
        "# Train on balanced data\n",
        "xgb_model_sm = XGBClassifier(use_label_encoder=False, eval_metric='logloss', random_state=42)\n",
        "xgb_model_sm.fit(X_train_sm, y_train_sm)\n",
        "sm_pred = xgb_model_sm.predict(X_test)\n",
        "\n",
        "print(\"XGBoost with SMOTE:\")\n",
        "print(classification_report(y_test, sm_pred))"
      ],
      "metadata": {
        "colab": {
          "base_uri": "https://localhost:8080/"
        },
        "id": "eomtofw3XRDz",
        "outputId": "cb1769ac-9f12-4fef-d8b9-9108b2615d5c"
      },
      "execution_count": 18,
      "outputs": [
        {
          "output_type": "stream",
          "name": "stderr",
          "text": [
            "/usr/local/lib/python3.11/dist-packages/xgboost/core.py:158: UserWarning: [03:49:18] WARNING: /workspace/src/learner.cc:740: \n",
            "Parameters: { \"use_label_encoder\" } are not used.\n",
            "\n",
            "  warnings.warn(smsg, UserWarning)\n"
          ]
        },
        {
          "output_type": "stream",
          "name": "stdout",
          "text": [
            "XGBoost with SMOTE:\n",
            "              precision    recall  f1-score   support\n",
            "\n",
            "           0       0.75      0.61      0.67     10288\n",
            "           1       0.33      0.48      0.39      4104\n",
            "\n",
            "    accuracy                           0.57     14392\n",
            "   macro avg       0.54      0.55      0.53     14392\n",
            "weighted avg       0.63      0.57      0.59     14392\n",
            "\n"
          ]
        }
      ]
    },
    {
      "cell_type": "markdown",
      "source": [
        "Resource Optimization Based on No-Show Predictions"
      ],
      "metadata": {
        "id": "iL_J7REMZXja"
      }
    },
    {
      "cell_type": "code",
      "source": [
        "no_show_probs = xgb_model_sm.predict_proba(X_test)[:, 1]  # Probability patient will not show"
      ],
      "metadata": {
        "id": "hWCQqc9RZYSn"
      },
      "execution_count": 19,
      "outputs": []
    },
    {
      "cell_type": "code",
      "source": [
        "high_risk_threshold = 0.7\n",
        "high_risk_appointments = X_test[no_show_probs > high_risk_threshold]\n",
        "print(\"Number of overbookable slots:\", len(high_risk_appointments))"
      ],
      "metadata": {
        "id": "3c5xr5bNZb6t"
      },
      "execution_count": null,
      "outputs": []
    },
    {
      "cell_type": "markdown",
      "source": [
        "Simulate Cost Based Optimization by Threshold Optimization"
      ],
      "metadata": {
        "id": "TYvM2B_5aBqb"
      }
    },
    {
      "cell_type": "code",
      "source": [
        "import numpy as np\n",
        "\n",
        "# Simulated predicted probabilities and true labels (replace with your actual data)\n",
        "np.random.seed(42)\n",
        "simulated_probs = np.random.beta(2, 5, size=1000)  # Probabilities skewed toward 0\n",
        "simulated_actuals = np.random.binomial(1, simulated_probs)\n",
        "\n",
        "# Define cost simulation function\n",
        "def simulate_costs(probabilities, actuals, threshold):\n",
        "    cost = 0\n",
        "    for p, y in zip(probabilities, actuals):\n",
        "        if p > threshold:\n",
        "            # Overbooked\n",
        "            if y == 0:  # Patient shows up => overbook clash\n",
        "                cost -= 300\n",
        "            else:       # Patient no-shows => efficient overbook\n",
        "                cost += 0\n",
        "        else:\n",
        "            if y == 1:  # Missed appointment\n",
        "                cost += 500\n",
        "    return cost\n",
        "\n",
        "# Try a range of thresholds\n",
        "thresholds = np.arange(0.5, 0.95, 0.05)\n",
        "costs = [simulate_costs(simulated_probs, simulated_actuals, t) for t in thresholds]\n",
        "\n",
        "# Output results\n",
        "for t, c in zip(thresholds, costs):\n",
        "    print(f\"Threshold {t:.2f} -> Simulated Cost: ₹{c}\")"
      ],
      "metadata": {
        "id": "5cKCQGzva2UQ",
        "colab": {
          "base_uri": "https://localhost:8080/"
        },
        "outputId": "18ffc71d-cb18-46e7-d761-ac4fdf559a00"
      },
      "execution_count": 20,
      "outputs": [
        {
          "output_type": "stream",
          "name": "stdout",
          "text": [
            "Threshold 0.50 -> Simulated Cost: ₹99500\n",
            "Threshold 0.55 -> Simulated Cost: ₹119100\n",
            "Threshold 0.60 -> Simulated Cost: ₹131500\n",
            "Threshold 0.65 -> Simulated Cost: ₹140100\n",
            "Threshold 0.70 -> Simulated Cost: ₹143400\n",
            "Threshold 0.75 -> Simulated Cost: ₹145200\n",
            "Threshold 0.80 -> Simulated Cost: ₹145200\n",
            "Threshold 0.85 -> Simulated Cost: ₹146000\n",
            "Threshold 0.90 -> Simulated Cost: ₹146000\n"
          ]
        }
      ]
    },
    {
      "cell_type": "markdown",
      "source": [
        "Prediction Function with Input Interface"
      ],
      "metadata": {
        "id": "rdrBP1whBw5E"
      }
    },
    {
      "cell_type": "code",
      "source": [
        "import numpy as np\n",
        "\n",
        "def predict_no_show(model, input_data, feature_names):\n",
        "    \"\"\"\n",
        "    Predict appointment no-show based on input data.\n",
        "\n",
        "    Parameters:\n",
        "    - model: trained ML model\n",
        "    - input_data: dict with keys matching feature_names\n",
        "    - feature_names: list of features used in training\n",
        "\n",
        "    Returns:\n",
        "    - prediction label (0 = Show, 1 = No-Show)\n",
        "    - probability of no-show\n",
        "    \"\"\"\n",
        "    # Convert to DataFrame\n",
        "    x = pd.DataFrame([input_data])[feature_names]\n",
        "\n",
        "\n",
        "    # Predict\n",
        "    prediction = model.predict(x)[0]\n",
        "    prob = model.predict_proba(x)[0][1]  # Probability of no-show\n",
        "\n",
        "    return prediction, prob"
      ],
      "metadata": {
        "id": "W2tERom3Bxl3"
      },
      "execution_count": 26,
      "outputs": []
    },
    {
      "cell_type": "code",
      "source": [
        "example_input = {\n",
        "    'Age': 35,\n",
        "    'Scholarship': 1,\n",
        "    'Hipertension': 0,\n",
        "    'Diabetes': 0,\n",
        "    'SMS_received': 1,\n",
        "    'Alcoholism': 0,\n",
        "    'AppointmentWeekDay': 2,   # Monday=0, ..., Sunday=6\n",
        "    'Gender': 1,               # e.g., Male=1, Female=0 (depending on your encoding)\n",
        "    'Handcap': 0,\n",
        "    'ScheduledHour': 14,\n",
        "    'WaitingDays': 5\n",
        "}\n",
        "feature_list = [\n",
        "    'Gender', 'Age', 'Scholarship', 'Hipertension', 'Diabetes',\n",
        "            'Alcoholism', 'Handcap', 'SMS_received', 'WaitingDays',\n",
        "            'AppointmentWeekDay', 'ScheduledHour'\n",
        "]\n",
        "pred, prob = predict_no_show(model, example_input, feature_list)\n",
        "print(\"Prediction:\", \"No-Show\" if pred == 1 else \"Show\")\n",
        "print(\"Probability of No-Show:\", round(prob, 2))"
      ],
      "metadata": {
        "colab": {
          "base_uri": "https://localhost:8080/"
        },
        "id": "VRLbSR6fD6hW",
        "outputId": "7ea8caa9-1474-43b2-acf0-0ff43fd7e7a9"
      },
      "execution_count": 32,
      "outputs": [
        {
          "output_type": "stream",
          "name": "stdout",
          "text": [
            "Prediction: Show\n",
            "Probability of No-Show: 0.31\n"
          ]
        }
      ]
    }
  ]
}